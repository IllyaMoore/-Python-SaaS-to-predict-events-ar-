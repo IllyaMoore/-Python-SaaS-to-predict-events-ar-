{
 "cells": [
  {
   "cell_type": "code",
   "execution_count": null,
   "metadata": {},
   "outputs": [],
   "source": [
    "import requests\n",
    "from bs4 import BeautifulSoup\n",
    "import time\n",
    "import json\n",
    "from datetime import datetime\n",
    "import os"
   ]
  },
  {
   "cell_type": "code",
   "execution_count": null,
   "metadata": {},
   "outputs": [
    {
     "name": "stdout",
     "output_type": "stream",
     "text": [
      "Found 10 articles.\n",
      "Fetching article: Russian Offensive Campaign Assessment, March 26, 2025 (https://www.understandingwar.org/backgrounder/russian-offensive-campaign-assessment-march-26-2025)\n",
      "Fetching article: Russian Offensive Campaign Assessment, March 25, 2025 (https://www.understandingwar.org/backgrounder/russian-offensive-campaign-assessment-march-25-2025)\n",
      "Fetching article: Russian Offensive Campaign Assessment, March 24, 2025 (https://www.understandingwar.org/backgrounder/russian-offensive-campaign-assessment-march-24-2025)\n",
      "Fetching article: Putin is Still Stealing Ukrainian Children (https://www.understandingwar.org/backgrounder/putin-still-stealing-ukrainian-children)\n",
      "Fetching article: Russian Offensive Campaign Assessment, March 23, 2025 (https://www.understandingwar.org/backgrounder/russian-offensive-campaign-assessment-march-23-2025)\n",
      "Fetching article: Russian Offensive Campaign Assessment, March 22, 2025 (https://www.understandingwar.org/backgrounder/russian-offensive-campaign-assessment-march-22-2025)\n",
      "Fetching article: Russian Offensive Campaign Assessment, March 21, 2025 (https://www.understandingwar.org/backgrounder/russian-offensive-campaign-assessment-march-21-2025)\n",
      "Fetching article: Russian Offensive Campaign Assessment, March 20, 2025 (https://www.understandingwar.org/backgrounder/russian-offensive-campaign-assessment-march-20-2025)\n",
      "Fetching article: Russian Offensive Campaign Assessment, March 19, 2025 (https://www.understandingwar.org/backgrounder/russian-offensive-campaign-assessment-march-19-2025)\n",
      "Fetching article: Russian Offensive Campaign Assessment, March 18, 2025 (https://www.understandingwar.org/backgrounder/russian-offensive-campaign-assessment-march-18-2025)\n",
      "Saved 10 articles to articles_2025-03-27.json\n"
     ]
    }
   ],
   "source": [
    "def get_articles(base_url):\n",
    "    headers = {'User-Agent': 'Mozilla/5.0'}\n",
    "    all_articles = []\n",
    "    \n",
    "    response = requests.get(base_url, headers=headers)\n",
    "    if response.status_code != 200:\n",
    "        print(f\"Error fetching page: {response.status_code}\")\n",
    "        return []\n",
    "    \n",
    "    soup = BeautifulSoup(response.text, 'html.parser')\n",
    "    articles_list = soup.find_all('div', class_='views-row')\n",
    "    print(f\"Found {len(articles_list)} articles.\")\n",
    "    \n",
    "    for article in articles_list:\n",
    "        title_tag = article.find('h2')\n",
    "        link_tag = title_tag.find('a') if title_tag else None\n",
    "        date_tag = article.find('span', class_='datespan')\n",
    "        summary_tag = article.find('p')\n",
    "        \n",
    "        if link_tag:\n",
    "            title = link_tag.text.strip()\n",
    "            article_url = 'https://www.understandingwar.org' + link_tag['href']\n",
    "            date = date_tag.text.strip() if date_tag else \"Unknown date\"\n",
    "            summary = summary_tag.text.strip() if summary_tag else \"No summary available\"\n",
    "            \n",
    "            print(f\"Fetching article: {title} ({article_url})\")\n",
    "            text = get_article_text(article_url)\n",
    "            all_articles.append({'title': title, 'url': article_url, 'date': date, 'summary': summary})\n",
    "            time.sleep(2)\n",
    "    \n",
    "    return all_articles\n",
    "\n",
    "def get_article_text(article_url):\n",
    "    headers = {'User-Agent': 'Mozilla/5.0'}\n",
    "    response = requests.get(article_url, headers=headers)\n",
    "    \n",
    "    if response.status_code != 200:\n",
    "        print(f\"Error fetching article: {article_url}\")\n",
    "        return \"Error fetching article\"\n",
    "    \n",
    "    soup = BeautifulSoup(response.text, 'html.parser')\n",
    "    content = soup.find('div', class_='field-item')\n",
    "    \n",
    "    return content.text.strip() if content else \"No content found\"\n",
    "\n",
    "def save_articles(articles):\n",
    "    today = datetime.now().strftime(\"%Y-%m-%d\")\n",
    "    filename = f\"articles_{today}.json\"\n",
    "    \n",
    "    with open(filename, \"w\", encoding=\"utf-8\") as f:\n",
    "        json.dump(articles, f, ensure_ascii=False, indent=4)\n",
    "    \n",
    "    print(f\"Saved {len(articles)} articles to {filename}\")\n",
    "\n",
    "if __name__ == \"__main__\":\n",
    "    base_url = \"https://www.understandingwar.org/publications?type%5B0%5D=backgrounder&type%5B1%5D=map&type%5B2%5D=other_work&type%5B3%5D=report&tid%5B0%5D=300&field_lastname_value=&sort_by=created&sort_order=DESC\"\n",
    "    articles = get_articles(base_url)\n",
    "    \n",
    "    if articles:\n",
    "        save_articles(articles)\n",
    "    else:\n",
    "        print(\"No new articles found.\")\n"
   ]
  },
  {
   "cell_type": "code",
   "execution_count": null,
   "metadata": {},
   "outputs": [],
   "source": []
  }
 ],
 "metadata": {
  "kernelspec": {
   "display_name": ".venv",
   "language": "python",
   "name": "python3"
  },
  "language_info": {
   "codemirror_mode": {
    "name": "ipython",
    "version": 3
   },
   "file_extension": ".py",
   "mimetype": "text/x-python",
   "name": "python",
   "nbconvert_exporter": "python",
   "pygments_lexer": "ipython3",
   "version": "3.13.0"
  }
 },
 "nbformat": 4,
 "nbformat_minor": 2
}
